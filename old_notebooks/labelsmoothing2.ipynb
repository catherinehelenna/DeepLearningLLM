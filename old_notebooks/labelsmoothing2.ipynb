{
 "cells": [
  {
   "cell_type": "code",
   "execution_count": 3,
   "id": "a33e76e9-3b1e-4f4e-9f7b-c0481fb6f0fc",
   "metadata": {},
   "outputs": [
    {
     "data": {
      "application/vnd.jupyter.widget-view+json": {
       "model_id": "3edb138d0610477cb2fbbc96626c4f5d",
       "version_major": 2,
       "version_minor": 0
      },
      "text/plain": [
       "README.md:   0%|          | 0.00/15.6k [00:00<?, ?B/s]"
      ]
     },
     "metadata": {},
     "output_type": "display_data"
    },
    {
     "data": {
      "application/vnd.jupyter.widget-view+json": {
       "model_id": "9365f71a9fb44db99ab4b6a4f0a2e97e",
       "version_major": 2,
       "version_minor": 0
      },
      "text/plain": [
       "train-00000-of-00003.parquet:   0%|          | 0.00/257M [00:00<?, ?B/s]"
      ]
     },
     "metadata": {},
     "output_type": "display_data"
    },
    {
     "data": {
      "application/vnd.jupyter.widget-view+json": {
       "model_id": "77cbf78476744b12a6e97aa31902514f",
       "version_major": 2,
       "version_minor": 0
      },
      "text/plain": [
       "train-00001-of-00003.parquet:   0%|          | 0.00/257M [00:00<?, ?B/s]"
      ]
     },
     "metadata": {},
     "output_type": "display_data"
    },
    {
     "data": {
      "application/vnd.jupyter.widget-view+json": {
       "model_id": "fe34a3f7f62b4037b929b066693c6cd0",
       "version_major": 2,
       "version_minor": 0
      },
      "text/plain": [
       "train-00002-of-00003.parquet:   0%|          | 0.00/259M [00:00<?, ?B/s]"
      ]
     },
     "metadata": {},
     "output_type": "display_data"
    },
    {
     "data": {
      "application/vnd.jupyter.widget-view+json": {
       "model_id": "d672ab83b8214e2bb47f1549377058de",
       "version_major": 2,
       "version_minor": 0
      },
      "text/plain": [
       "validation-00000-of-00001.parquet:   0%|          | 0.00/34.7M [00:00<?, ?B/s]"
      ]
     },
     "metadata": {},
     "output_type": "display_data"
    },
    {
     "data": {
      "application/vnd.jupyter.widget-view+json": {
       "model_id": "bbf2fcb69ae5478b92f43b2fdb402a5c",
       "version_major": 2,
       "version_minor": 0
      },
      "text/plain": [
       "test-00000-of-00001.parquet:   0%|          | 0.00/30.0M [00:00<?, ?B/s]"
      ]
     },
     "metadata": {},
     "output_type": "display_data"
    },
    {
     "data": {
      "application/vnd.jupyter.widget-view+json": {
       "model_id": "0c71b87a480c4dd49d89e5cbc70752f5",
       "version_major": 2,
       "version_minor": 0
      },
      "text/plain": [
       "Generating train split:   0%|          | 0/287113 [00:00<?, ? examples/s]"
      ]
     },
     "metadata": {},
     "output_type": "display_data"
    },
    {
     "data": {
      "application/vnd.jupyter.widget-view+json": {
       "model_id": "a187f0c5d53341bbaec27fa254942b0a",
       "version_major": 2,
       "version_minor": 0
      },
      "text/plain": [
       "Generating validation split:   0%|          | 0/13368 [00:00<?, ? examples/s]"
      ]
     },
     "metadata": {},
     "output_type": "display_data"
    },
    {
     "data": {
      "application/vnd.jupyter.widget-view+json": {
       "model_id": "58c36a6a0e9c45f1af145d4cd2bc6380",
       "version_major": 2,
       "version_minor": 0
      },
      "text/plain": [
       "Generating test split:   0%|          | 0/11490 [00:00<?, ? examples/s]"
      ]
     },
     "metadata": {},
     "output_type": "display_data"
    },
    {
     "data": {
      "application/vnd.jupyter.widget-view+json": {
       "model_id": "deec8363be9d46a1aec85b50f69e0e5f",
       "version_major": 2,
       "version_minor": 0
      },
      "text/plain": [
       "Epoch 1/15:   0%|          | 0/8973 [00:00<?, ?it/s]"
      ]
     },
     "metadata": {},
     "output_type": "display_data"
    },
    {
     "name": "stderr",
     "output_type": "stream",
     "text": [
      "/venv/main/lib/python3.10/site-packages/torch/nn/modules/transformer.py:508: UserWarning: The PyTorch API of nested tensors is in prototype stage and will change in the near future. We recommend specifying layout=torch.jagged when constructing a nested tensor, as this layout receives active development, has better operator coverage, and works with torch.compile. (Triggered internally at /pytorch/aten/src/ATen/NestedTensorImpl.cpp:178.)\n",
      "  output = torch._nested_tensor_from_mask(\n"
     ]
    },
    {
     "name": "stdout",
     "output_type": "stream",
     "text": [
      "[Epoch 1] Train Loss: 5.9531, Val Loss: 5.3148\n"
     ]
    },
    {
     "data": {
      "application/vnd.jupyter.widget-view+json": {
       "model_id": "d1bab2aed8bf484e800ff0134084def5",
       "version_major": 2,
       "version_minor": 0
      },
      "text/plain": [
       "Epoch 2/15:   0%|          | 0/8973 [00:00<?, ?it/s]"
      ]
     },
     "metadata": {},
     "output_type": "display_data"
    },
    {
     "name": "stdout",
     "output_type": "stream",
     "text": [
      "[Epoch 2] Train Loss: 5.2366, Val Loss: 5.0175\n"
     ]
    },
    {
     "data": {
      "application/vnd.jupyter.widget-view+json": {
       "model_id": "aff7d0bbffea4554901022d187870db0",
       "version_major": 2,
       "version_minor": 0
      },
      "text/plain": [
       "Epoch 3/15:   0%|          | 0/8973 [00:00<?, ?it/s]"
      ]
     },
     "metadata": {},
     "output_type": "display_data"
    },
    {
     "name": "stdout",
     "output_type": "stream",
     "text": [
      "[Epoch 3] Train Loss: 4.9446, Val Loss: 4.8593\n"
     ]
    },
    {
     "data": {
      "application/vnd.jupyter.widget-view+json": {
       "model_id": "50b84229893a41fab19c97686ecaaa7e",
       "version_major": 2,
       "version_minor": 0
      },
      "text/plain": [
       "Epoch 4/15:   0%|          | 0/8973 [00:00<?, ?it/s]"
      ]
     },
     "metadata": {},
     "output_type": "display_data"
    },
    {
     "name": "stdout",
     "output_type": "stream",
     "text": [
      "[Epoch 4] Train Loss: 4.7756, Val Loss: 4.7887\n"
     ]
    },
    {
     "data": {
      "application/vnd.jupyter.widget-view+json": {
       "model_id": "479be773fd9543928ce5ba8dc2e6b700",
       "version_major": 2,
       "version_minor": 0
      },
      "text/plain": [
       "Epoch 5/15:   0%|          | 0/8973 [00:00<?, ?it/s]"
      ]
     },
     "metadata": {},
     "output_type": "display_data"
    },
    {
     "name": "stdout",
     "output_type": "stream",
     "text": [
      "[Epoch 5] Train Loss: 4.6658, Val Loss: 4.7532\n"
     ]
    },
    {
     "data": {
      "application/vnd.jupyter.widget-view+json": {
       "model_id": "f2c221e3677a4a5b9342393476430e1a",
       "version_major": 2,
       "version_minor": 0
      },
      "text/plain": [
       "Epoch 6/15:   0%|          | 0/8973 [00:00<?, ?it/s]"
      ]
     },
     "metadata": {},
     "output_type": "display_data"
    },
    {
     "name": "stdout",
     "output_type": "stream",
     "text": [
      "[Epoch 6] Train Loss: 4.5681, Val Loss: 4.7270\n"
     ]
    },
    {
     "data": {
      "application/vnd.jupyter.widget-view+json": {
       "model_id": "375118cc51c64e31bc53d0275d334516",
       "version_major": 2,
       "version_minor": 0
      },
      "text/plain": [
       "Epoch 7/15:   0%|          | 0/8973 [00:00<?, ?it/s]"
      ]
     },
     "metadata": {},
     "output_type": "display_data"
    },
    {
     "name": "stdout",
     "output_type": "stream",
     "text": [
      "[Epoch 7] Train Loss: 4.5009, Val Loss: 4.7905\n"
     ]
    },
    {
     "data": {
      "application/vnd.jupyter.widget-view+json": {
       "model_id": "6d24430853f64d84a663b9402bed595b",
       "version_major": 2,
       "version_minor": 0
      },
      "text/plain": [
       "Epoch 8/15:   0%|          | 0/8973 [00:00<?, ?it/s]"
      ]
     },
     "metadata": {},
     "output_type": "display_data"
    },
    {
     "name": "stdout",
     "output_type": "stream",
     "text": [
      "[Epoch 8] Train Loss: 4.4200, Val Loss: 4.9622\n"
     ]
    },
    {
     "data": {
      "application/vnd.jupyter.widget-view+json": {
       "model_id": "edf431e0aa47458eb3484ebafa1a3142",
       "version_major": 2,
       "version_minor": 0
      },
      "text/plain": [
       "Epoch 9/15:   0%|          | 0/8973 [00:00<?, ?it/s]"
      ]
     },
     "metadata": {},
     "output_type": "display_data"
    },
    {
     "name": "stdout",
     "output_type": "stream",
     "text": [
      "[Epoch 9] Train Loss: 4.3720, Val Loss: 4.8971\n"
     ]
    },
    {
     "data": {
      "application/vnd.jupyter.widget-view+json": {
       "model_id": "86dc8b4ed056438a8727375be3be217f",
       "version_major": 2,
       "version_minor": 0
      },
      "text/plain": [
       "Epoch 10/15:   0%|          | 0/8973 [00:00<?, ?it/s]"
      ]
     },
     "metadata": {},
     "output_type": "display_data"
    },
    {
     "name": "stdout",
     "output_type": "stream",
     "text": [
      "[Epoch 10] Train Loss: 4.2097, Val Loss: 5.1186\n"
     ]
    },
    {
     "data": {
      "application/vnd.jupyter.widget-view+json": {
       "model_id": "6000659372f849fb8b45c19e2f2e183c",
       "version_major": 2,
       "version_minor": 0
      },
      "text/plain": [
       "Epoch 11/15:   0%|          | 0/8973 [00:00<?, ?it/s]"
      ]
     },
     "metadata": {},
     "output_type": "display_data"
    },
    {
     "name": "stdout",
     "output_type": "stream",
     "text": [
      "[Epoch 11] Train Loss: 4.1517, Val Loss: 5.2819\n"
     ]
    },
    {
     "data": {
      "application/vnd.jupyter.widget-view+json": {
       "model_id": "28198947055f4c9eba04cd030a375b1f",
       "version_major": 2,
       "version_minor": 0
      },
      "text/plain": [
       "Epoch 12/15:   0%|          | 0/8973 [00:00<?, ?it/s]"
      ]
     },
     "metadata": {},
     "output_type": "display_data"
    },
    {
     "name": "stdout",
     "output_type": "stream",
     "text": [
      "[Epoch 12] Train Loss: 4.1298, Val Loss: 5.6795\n"
     ]
    },
    {
     "data": {
      "application/vnd.jupyter.widget-view+json": {
       "model_id": "962d992f45f54a5598adc81b7595b28c",
       "version_major": 2,
       "version_minor": 0
      },
      "text/plain": [
       "Epoch 13/15:   0%|          | 0/8973 [00:00<?, ?it/s]"
      ]
     },
     "metadata": {},
     "output_type": "display_data"
    },
    {
     "name": "stdout",
     "output_type": "stream",
     "text": [
      "[Epoch 13] Train Loss: 4.0465, Val Loss: 6.0807\n"
     ]
    },
    {
     "data": {
      "application/vnd.jupyter.widget-view+json": {
       "model_id": "c90f1660c5664c64908ca62de92ccca7",
       "version_major": 2,
       "version_minor": 0
      },
      "text/plain": [
       "Epoch 14/15:   0%|          | 0/8973 [00:00<?, ?it/s]"
      ]
     },
     "metadata": {},
     "output_type": "display_data"
    },
    {
     "name": "stdout",
     "output_type": "stream",
     "text": [
      "[Epoch 14] Train Loss: 4.0139, Val Loss: 6.1537\n"
     ]
    },
    {
     "data": {
      "application/vnd.jupyter.widget-view+json": {
       "model_id": "6a92838b50d74dc381354f719db13aff",
       "version_major": 2,
       "version_minor": 0
      },
      "text/plain": [
       "Epoch 15/15:   0%|          | 0/8973 [00:00<?, ?it/s]"
      ]
     },
     "metadata": {},
     "output_type": "display_data"
    },
    {
     "name": "stdout",
     "output_type": "stream",
     "text": [
      "[Epoch 15] Train Loss: 3.9918, Val Loss: 6.3733\n",
      "\n",
      " Test Loss: 6.3529 | Test Accuracy: 0.1889\n"
     ]
    },
    {
     "data": {
      "image/png": "[encoded data removed]",
      "text/plain": [
       "<Figure size 1000x500 with 1 Axes>"
      ]
     },
     "metadata": {},
     "output_type": "display_data"
    },
    {
     "data": {
      "image/png": "[encoded data removed]",
      "text/plain": [
       "<Figure size 500x400 with 1 Axes>"
      ]
     },
     "metadata": {},
     "output_type": "display_data"
    }
   ],
   "source": [
    "import torch\n",
    "import torch.nn as nn\n",
    "from data_utils import get_train_loader, get_val_loader, get_test_loader, set_seed\n",
    "from baseline_transformer_architecture import create_small_transformer\n",
    "from modeling_functions import validate_transformer\n",
    "from optimizer_scheduler import get_optimizer, get_plateau_scheduler, linear_teacher_scheduler\n",
    "from tokenizers import Tokenizer\n",
    "from tqdm.auto import tqdm\n",
    "import json\n",
    "import matplotlib.pyplot as plt\n",
    "\n",
    "class LabelSmoothingLoss(nn.Module):\n",
    "    def __init__(self, smoothing=0.1, ignore_index=1):\n",
    "        super().__init__()\n",
    "        self.smoothing = smoothing\n",
    "        self.ignore_index = ignore_index\n",
    "\n",
    "    def forward(self, pred, target):\n",
    "        with torch.no_grad():\n",
    "            true_dist = torch.zeros_like(pred)\n",
    "            true_dist.fill_(self.smoothing / (pred.size(1) - 1))\n",
    "            mask = target != self.ignore_index\n",
    "            target = target.masked_fill(~mask, 0)\n",
    "            true_dist.scatter_(1, target.unsqueeze(1), 1.0 - self.smoothing)\n",
    "            true_dist.masked_fill_(~mask.unsqueeze(1), 0)\n",
    "        return torch.mean(torch.sum(-true_dist * pred.log_softmax(dim=1), dim=1))\n",
    "\n",
    "\n",
    "if __name__ == \"__main__\":\n",
    "    torch.cuda.empty_cache()\n",
    "    set_seed(42)\n",
    "    device = torch.device(\"cuda\" if torch.cuda.is_available() else \"cpu\")\n",
    "\n",
    "    #  Lightweight model config\n",
    "    config = {\n",
    "        \"vocab_size\": 20000,\n",
    "        \"dropout\": 0.1,\n",
    "        \"d_model\": 384,\n",
    "        \"nhead\": 6,\n",
    "        \"num_encoder_layers\": 4,\n",
    "        \"num_decoder_layers\": 4,\n",
    "        \"dim_feedforward\": 1536\n",
    "    }\n",
    "\n",
    "    tokenizer = Tokenizer.from_file(\"cnn_bpe_tokenizer_20k.json\")\n",
    "    pad_idx = tokenizer.token_to_id(\"[PAD]\")\n",
    "\n",
    "    model = create_small_transformer(**config).to(device)\n",
    "    optimizer = get_optimizer(model)\n",
    "    plateau_scheduler = get_plateau_scheduler(optimizer)\n",
    "    teacher_scheduler = linear_teacher_scheduler\n",
    "    criterion = LabelSmoothingLoss(smoothing=0.01, ignore_index=pad_idx)\n",
    "\n",
    "    #  Reduce batch size for GPU safety\n",
    "    train_loader = get_train_loader(tokenizer, batch_size=32, num_workers=2)\n",
    "    val_loader = get_val_loader(tokenizer, batch_size=4, num_workers=0)\n",
    "    test_loader = get_test_loader(tokenizer, batch_size=4, num_workers=0)\n",
    "\n",
    "    history = {\n",
    "        \"train_loss\": [],\n",
    "        \"val_loss\": [],\n",
    "        \"test_loss\": None,\n",
    "        \"test_accuracy\": None,\n",
    "        \"learning_rate\": [],\n",
    "        \"teacher_forcing_ratio\": [],\n",
    "    }\n",
    "\n",
    "    # === Training Loop ===\n",
    "    for epoch in range(15):\n",
    "        model.train()\n",
    "        total_loss = 0\n",
    "        tf_ratio = teacher_scheduler.step()\n",
    "\n",
    "        for batch in tqdm(train_loader, desc=f\"Epoch {epoch+1}/15\"):\n",
    "            input_ids = batch[\"input_ids\"].to(device)\n",
    "            labels = batch[\"labels\"].to(device)\n",
    "            attn_mask = batch[\"attention_mask\"].to(device)\n",
    "\n",
    "            optimizer.zero_grad()\n",
    "            output = model(\n",
    "                src=input_ids,\n",
    "                tgt=labels,\n",
    "                src_key_padding_mask=(attn_mask == 0),\n",
    "                teacher_forcing_ratio=tf_ratio\n",
    "            )\n",
    "            logits = output.view(-1, output.size(-1))\n",
    "            targets = labels[:, 1:].contiguous().view(-1)\n",
    "            loss = criterion(logits, targets)\n",
    "            loss.backward()\n",
    "            torch.nn.utils.clip_grad_norm_(model.parameters(), 2.0)\n",
    "            optimizer.step()\n",
    "            total_loss += loss.item()\n",
    "\n",
    "        avg_train_loss = total_loss / len(train_loader)\n",
    "\n",
    "        # Clear cache before validation\n",
    "        torch.cuda.empty_cache()\n",
    "        val_loss, _ = validate_transformer(model, val_loader, criterion, tokenizer, device, pad_idx, max_length_generate=40)\n",
    "\n",
    "        history[\"train_loss\"].append(avg_train_loss)\n",
    "        history[\"val_loss\"].append(val_loss)\n",
    "        history[\"learning_rate\"].append(optimizer.param_groups[0]['lr'])\n",
    "        history[\"teacher_forcing_ratio\"].append(tf_ratio)\n",
    "\n",
    "        plateau_scheduler.step(val_loss)\n",
    "        print(f\"[Epoch {epoch+1}] Train Loss: {avg_train_loss:.4f}, Val Loss: {val_loss:.4f}\")\n",
    "\n",
    "    # === Final Test Evaluation ===\n",
    "    torch.cuda.empty_cache()\n",
    "    model.eval()\n",
    "    correct = total = 0\n",
    "    total_test_loss = 0\n",
    "\n",
    "    with torch.no_grad():\n",
    "        for batch in test_loader:\n",
    "            input_ids = batch[\"input_ids\"].to(device)\n",
    "            labels = batch[\"labels\"].to(device)\n",
    "            attn_mask = batch[\"attention_mask\"].to(device)\n",
    "\n",
    "            output = model(\n",
    "                src=input_ids,\n",
    "                tgt=labels,\n",
    "                src_key_padding_mask=(attn_mask == 0)\n",
    "            )\n",
    "            logits = output.view(-1, output.size(-1))\n",
    "            targets = labels[:, 1:].contiguous().view(-1)\n",
    "            loss = criterion(logits, targets)\n",
    "            total_test_loss += loss.item()\n",
    "\n",
    "            pred_ids = logits.argmax(dim=-1)\n",
    "            correct += (pred_ids == targets).sum().item()\n",
    "            total += targets.numel()\n",
    "\n",
    "    avg_test_loss = total_test_loss / len(test_loader)\n",
    "    accuracy = correct / total\n",
    "    history[\"test_loss\"] = avg_test_loss\n",
    "    history[\"test_accuracy\"] = accuracy\n",
    "\n",
    "    print(f\"\\n Test Loss: {avg_test_loss:.4f} | Test Accuracy: {accuracy:.4f}\")\n",
    "\n",
    "    # === Save history ===\n",
    "    with open(\"label_smooth_history.json\", \"w\") as f:\n",
    "        json.dump(history, f, indent=2)\n",
    "\n",
    "    # === Plotting ===\n",
    "    epochs = list(range(1, len(history[\"train_loss\"]) + 1))\n",
    "\n",
    "    plt.figure(figsize=(10, 5))\n",
    "    plt.plot(epochs, history[\"train_loss\"], label=\"Train Loss\", marker=\"o\")\n",
    "    plt.plot(epochs, history[\"val_loss\"], label=\"Validation Loss\", marker=\"s\")\n",
    "    plt.axhline(y=history[\"test_loss\"], color='r', linestyle='--', label=f\"Test Loss: {history['test_loss']:.4f}\")\n",
    "    plt.title(\"Loss Over Epochs\")\n",
    "    plt.xlabel(\"Epoch\")\n",
    "    plt.ylabel(\"Loss\")\n",
    "    plt.legend()\n",
    "    plt.grid(True)\n",
    "    plt.tight_layout()\n",
    "    plt.savefig(\"loss_plot.png\")\n",
    "    plt.show()\n",
    "\n",
    "    plt.figure(figsize=(5, 4))\n",
    "    plt.bar([\"Test Accuracy\"], [history[\"test_accuracy\"]], color='green')\n",
    "    plt.ylim(0, 1)\n",
    "    plt.title(\"Final Test Accuracy\")\n",
    "    plt.ylabel(\"Accuracy\")\n",
    "    plt.tight_layout()\n",
    "    plt.savefig(\"test_accuracy.png\")\n",
    "    plt.show()\n"
   ]
  },
  {
   "cell_type": "code",
   "execution_count": null,
   "id": "0d0807f6-ef3d-45bd-8999-1b4d72bcedf3",
   "metadata": {},
   "outputs": [],
   "source": []
  }
 ],
 "metadata": {
  "kernelspec": {
   "display_name": "Python3 (ipykernel)",
   "language": "python",
   "name": "python3"
  },
  "language_info": {
   "codemirror_mode": {
    "name": "ipython",
    "version": 3
   },
   "file_extension": ".py",
   "mimetype": "text/x-python",
   "name": "python",
   "nbconvert_exporter": "python",
   "pygments_lexer": "ipython3",
   "version": "3.10.12"
  }
 },
 "nbformat": 4,
 "nbformat_minor": 5
}
