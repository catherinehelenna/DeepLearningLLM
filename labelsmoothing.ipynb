{
 "cells": [
  {
   "cell_type": "code",
   "execution_count": 7,
   "id": "a33e76e9-3b1e-4f4e-9f7b-c0481fb6f0fc",
   "metadata": {},
   "outputs": [
    {
     "data": {
      "application/vnd.jupyter.widget-view+json": {
       "model_id": "05b5290c615d4ab3a21251f1f0c02c59",
       "version_major": 2,
       "version_minor": 0
      },
      "text/plain": [
       "Epoch 1/15:   0%|          | 0/8973 [00:00<?, ?it/s]"
      ]
     },
     "metadata": {},
     "output_type": "display_data"
    },
    {
     "name": "stderr",
     "output_type": "stream",
     "text": [
      "/venv/main/lib/python3.10/site-packages/torch/nn/modules/transformer.py:508: UserWarning: The PyTorch API of nested tensors is in prototype stage and will change in the near future. We recommend specifying layout=torch.jagged when constructing a nested tensor, as this layout receives active development, has better operator coverage, and works with torch.compile. (Triggered internally at /pytorch/aten/src/ATen/NestedTensorImpl.cpp:178.)\n",
      "  output = torch._nested_tensor_from_mask(\n"
     ]
    },
    {
     "name": "stdout",
     "output_type": "stream",
     "text": [
      "[Epoch 1] Train Loss: 6.4590, Val Loss: 5.9456\n"
     ]
    },
    {
     "data": {
      "application/vnd.jupyter.widget-view+json": {
       "model_id": "8c1f7a0e8afb472c90bbe01aab63e0c4",
       "version_major": 2,
       "version_minor": 0
      },
      "text/plain": [
       "Epoch 2/15:   0%|          | 0/8973 [00:00<?, ?it/s]"
      ]
     },
     "metadata": {},
     "output_type": "display_data"
    },
    {
     "name": "stdout",
     "output_type": "stream",
     "text": [
      "[Epoch 2] Train Loss: 5.8550, Val Loss: 5.6826\n"
     ]
    },
    {
     "data": {
      "application/vnd.jupyter.widget-view+json": {
       "model_id": "0d0657f2e4cc44a1b792784136a12182",
       "version_major": 2,
       "version_minor": 0
      },
      "text/plain": [
       "Epoch 3/15:   0%|          | 0/8973 [00:00<?, ?it/s]"
      ]
     },
     "metadata": {},
     "output_type": "display_data"
    },
    {
     "name": "stdout",
     "output_type": "stream",
     "text": [
      "[Epoch 3] Train Loss: 5.6051, Val Loss: 5.5930\n"
     ]
    },
    {
     "data": {
      "application/vnd.jupyter.widget-view+json": {
       "model_id": "bd0a8ea00b604700b915d1504a931f4a",
       "version_major": 2,
       "version_minor": 0
      },
      "text/plain": [
       "Epoch 4/15:   0%|          | 0/8973 [00:00<?, ?it/s]"
      ]
     },
     "metadata": {},
     "output_type": "display_data"
    },
    {
     "name": "stdout",
     "output_type": "stream",
     "text": [
      "[Epoch 4] Train Loss: 5.4625, Val Loss: 5.5095\n"
     ]
    },
    {
     "data": {
      "application/vnd.jupyter.widget-view+json": {
       "model_id": "173ca923e21947bd98966b7c7f3ccc71",
       "version_major": 2,
       "version_minor": 0
      },
      "text/plain": [
       "Epoch 5/15:   0%|          | 0/8973 [00:00<?, ?it/s]"
      ]
     },
     "metadata": {},
     "output_type": "display_data"
    },
    {
     "name": "stdout",
     "output_type": "stream",
     "text": [
      "[Epoch 5] Train Loss: 5.3697, Val Loss: 5.4815\n"
     ]
    },
    {
     "data": {
      "application/vnd.jupyter.widget-view+json": {
       "model_id": "09082331bf4d4f818c59bc9430653c37",
       "version_major": 2,
       "version_minor": 0
      },
      "text/plain": [
       "Epoch 6/15:   0%|          | 0/8973 [00:00<?, ?it/s]"
      ]
     },
     "metadata": {},
     "output_type": "display_data"
    },
    {
     "name": "stdout",
     "output_type": "stream",
     "text": [
      "[Epoch 6] Train Loss: 5.2872, Val Loss: 5.4370\n"
     ]
    },
    {
     "data": {
      "application/vnd.jupyter.widget-view+json": {
       "model_id": "5cb621fc617845768ec15aaaf4193c80",
       "version_major": 2,
       "version_minor": 0
      },
      "text/plain": [
       "Epoch 7/15:   0%|          | 0/8973 [00:00<?, ?it/s]"
      ]
     },
     "metadata": {},
     "output_type": "display_data"
    },
    {
     "name": "stdout",
     "output_type": "stream",
     "text": [
      "[Epoch 7] Train Loss: 5.2310, Val Loss: 5.4282\n"
     ]
    },
    {
     "data": {
      "application/vnd.jupyter.widget-view+json": {
       "model_id": "5d176b99516f4877901132482d3c22b4",
       "version_major": 2,
       "version_minor": 0
      },
      "text/plain": [
       "Epoch 8/15:   0%|          | 0/8973 [00:00<?, ?it/s]"
      ]
     },
     "metadata": {},
     "output_type": "display_data"
    },
    {
     "name": "stdout",
     "output_type": "stream",
     "text": [
      "[Epoch 8] Train Loss: 5.1632, Val Loss: 5.4535\n"
     ]
    },
    {
     "data": {
      "application/vnd.jupyter.widget-view+json": {
       "model_id": "8b7fb92b218944c6835c42190339071d",
       "version_major": 2,
       "version_minor": 0
      },
      "text/plain": [
       "Epoch 9/15:   0%|          | 0/8973 [00:00<?, ?it/s]"
      ]
     },
     "metadata": {},
     "output_type": "display_data"
    },
    {
     "name": "stdout",
     "output_type": "stream",
     "text": [
      "[Epoch 9] Train Loss: 5.1233, Val Loss: 5.4208\n"
     ]
    },
    {
     "data": {
      "application/vnd.jupyter.widget-view+json": {
       "model_id": "645fe62429c34515ac5f8d4030aadb7e",
       "version_major": 2,
       "version_minor": 0
      },
      "text/plain": [
       "Epoch 10/15:   0%|          | 0/8973 [00:00<?, ?it/s]"
      ]
     },
     "metadata": {},
     "output_type": "display_data"
    },
    {
     "name": "stdout",
     "output_type": "stream",
     "text": [
      "[Epoch 10] Train Loss: 4.9884, Val Loss: 5.4967\n"
     ]
    },
    {
     "data": {
      "application/vnd.jupyter.widget-view+json": {
       "model_id": "3497702da698495f9905a0ae8d5a81ee",
       "version_major": 2,
       "version_minor": 0
      },
      "text/plain": [
       "Epoch 11/15:   0%|          | 0/8973 [00:00<?, ?it/s]"
      ]
     },
     "metadata": {},
     "output_type": "display_data"
    },
    {
     "name": "stdout",
     "output_type": "stream",
     "text": [
      "[Epoch 11] Train Loss: 4.9405, Val Loss: 5.4640\n"
     ]
    },
    {
     "data": {
      "application/vnd.jupyter.widget-view+json": {
       "model_id": "f3ade90379cd431e84320ef4d884debe",
       "version_major": 2,
       "version_minor": 0
      },
      "text/plain": [
       "Epoch 12/15:   0%|          | 0/8973 [00:00<?, ?it/s]"
      ]
     },
     "metadata": {},
     "output_type": "display_data"
    },
    {
     "name": "stdout",
     "output_type": "stream",
     "text": [
      "[Epoch 12] Train Loss: 4.9229, Val Loss: 5.5769\n"
     ]
    },
    {
     "data": {
      "application/vnd.jupyter.widget-view+json": {
       "model_id": "f2882d06603c4c6b8afb579b34fdd01d",
       "version_major": 2,
       "version_minor": 0
      },
      "text/plain": [
       "Epoch 13/15:   0%|          | 0/8973 [00:00<?, ?it/s]"
      ]
     },
     "metadata": {},
     "output_type": "display_data"
    },
    {
     "name": "stdout",
     "output_type": "stream",
     "text": [
      "[Epoch 13] Train Loss: 4.8554, Val Loss: 5.8123\n"
     ]
    },
    {
     "data": {
      "application/vnd.jupyter.widget-view+json": {
       "model_id": "8ce535a0616d43f9a1af9b47370a75dd",
       "version_major": 2,
       "version_minor": 0
      },
      "text/plain": [
       "Epoch 14/15:   0%|          | 0/8973 [00:00<?, ?it/s]"
      ]
     },
     "metadata": {},
     "output_type": "display_data"
    },
    {
     "name": "stdout",
     "output_type": "stream",
     "text": [
      "[Epoch 14] Train Loss: 4.8287, Val Loss: 5.8264\n"
     ]
    },
    {
     "data": {
      "application/vnd.jupyter.widget-view+json": {
       "model_id": "436f67df82ff486d8ecc2265a0fd603b",
       "version_major": 2,
       "version_minor": 0
      },
      "text/plain": [
       "Epoch 15/15:   0%|          | 0/8973 [00:00<?, ?it/s]"
      ]
     },
     "metadata": {},
     "output_type": "display_data"
    },
    {
     "name": "stdout",
     "output_type": "stream",
     "text": [
      "[Epoch 15] Train Loss: 4.8105, Val Loss: 5.8276\n",
      "\n",
      " Test Loss: 5.8172 | Test Accuracy: 0.2273\n"
     ]
    },
    {
     "data": {
      "image/png": "[encoded data removed]",
      "text/plain": [
       "<Figure size 1000x500 with 1 Axes>"
      ]
     },
     "metadata": {},
     "output_type": "display_data"
    },
    {
     "data": {
      "image/png": "[encoded data removed]",
      "text/plain": [
       "<Figure size 500x400 with 1 Axes>"
      ]
     },
     "metadata": {},
     "output_type": "display_data"
    }
   ],
   "source": [
    "import torch\n",
    "import torch.nn as nn\n",
    "from data_utils import get_train_loader, get_val_loader, get_test_loader, set_seed\n",
    "from baseline_transformer_architecture import create_small_transformer\n",
    "from modeling_functions import validate_transformer\n",
    "from optimizer_scheduler import get_optimizer, get_plateau_scheduler, linear_teacher_scheduler\n",
    "from tokenizers import Tokenizer\n",
    "from tqdm.auto import tqdm\n",
    "import json\n",
    "import matplotlib.pyplot as plt\n",
    "\n",
    "class LabelSmoothingLoss(nn.Module):\n",
    "    def __init__(self, smoothing=0.1, ignore_index=1):\n",
    "        super().__init__()\n",
    "        self.smoothing = smoothing\n",
    "        self.ignore_index = ignore_index\n",
    "\n",
    "    def forward(self, pred, target):\n",
    "        with torch.no_grad():\n",
    "            true_dist = torch.zeros_like(pred)\n",
    "            true_dist.fill_(self.smoothing / (pred.size(1) - 1))\n",
    "            mask = target != self.ignore_index\n",
    "            target = target.masked_fill(~mask, 0)\n",
    "            true_dist.scatter_(1, target.unsqueeze(1), 1.0 - self.smoothing)\n",
    "            true_dist.masked_fill_(~mask.unsqueeze(1), 0)\n",
    "        return torch.mean(torch.sum(-true_dist * pred.log_softmax(dim=1), dim=1))\n",
    "\n",
    "\n",
    "if __name__ == \"__main__\":\n",
    "    torch.cuda.empty_cache()\n",
    "    set_seed(42)\n",
    "    device = torch.device(\"cuda\" if torch.cuda.is_available() else \"cpu\")\n",
    "\n",
    "    #  Lightweight model config\n",
    "    config = {\n",
    "        \"vocab_size\": 20000,\n",
    "        \"dropout\": 0.1,\n",
    "        \"d_model\": 384,\n",
    "        \"nhead\": 6,\n",
    "        \"num_encoder_layers\": 4,\n",
    "        \"num_decoder_layers\": 4,\n",
    "        \"dim_feedforward\": 1536\n",
    "    }\n",
    "\n",
    "    tokenizer = Tokenizer.from_file(\"cnn_bpe_tokenizer_20k.json\")\n",
    "    pad_idx = tokenizer.token_to_id(\"[PAD]\")\n",
    "\n",
    "    model = create_small_transformer(**config).to(device)\n",
    "    optimizer = get_optimizer(model)\n",
    "    plateau_scheduler = get_plateau_scheduler(optimizer)\n",
    "    teacher_scheduler = linear_teacher_scheduler\n",
    "    criterion = LabelSmoothingLoss(smoothing=0.1, ignore_index=pad_idx)\n",
    "\n",
    "    #  Reduce batch size for GPU safety\n",
    "    train_loader = get_train_loader(tokenizer, batch_size=32, num_workers=2)\n",
    "    val_loader = get_val_loader(tokenizer, batch_size=4, num_workers=0)\n",
    "    test_loader = get_test_loader(tokenizer, batch_size=4, num_workers=0)\n",
    "\n",
    "    history = {\n",
    "        \"train_loss\": [],\n",
    "        \"val_loss\": [],\n",
    "        \"test_loss\": None,\n",
    "        \"test_accuracy\": None,\n",
    "        \"learning_rate\": [],\n",
    "        \"teacher_forcing_ratio\": [],\n",
    "    }\n",
    "\n",
    "    # === Training Loop ===\n",
    "    for epoch in range(15):\n",
    "        model.train()\n",
    "        total_loss = 0\n",
    "        tf_ratio = teacher_scheduler.step()\n",
    "\n",
    "        for batch in tqdm(train_loader, desc=f\"Epoch {epoch+1}/15\"):\n",
    "            input_ids = batch[\"input_ids\"].to(device)\n",
    "            labels = batch[\"labels\"].to(device)\n",
    "            attn_mask = batch[\"attention_mask\"].to(device)\n",
    "\n",
    "            optimizer.zero_grad()\n",
    "            output = model(\n",
    "                src=input_ids,\n",
    "                tgt=labels,\n",
    "                src_key_padding_mask=(attn_mask == 0),\n",
    "                teacher_forcing_ratio=tf_ratio\n",
    "            )\n",
    "            logits = output.view(-1, output.size(-1))\n",
    "            targets = labels[:, 1:].contiguous().view(-1)\n",
    "            loss = criterion(logits, targets)\n",
    "            loss.backward()\n",
    "            torch.nn.utils.clip_grad_norm_(model.parameters(), 2.0)\n",
    "            optimizer.step()\n",
    "            total_loss += loss.item()\n",
    "\n",
    "        avg_train_loss = total_loss / len(train_loader)\n",
    "\n",
    "        # Clear cache before validation\n",
    "        torch.cuda.empty_cache()\n",
    "        val_loss, _ = validate_transformer(model, val_loader, criterion, tokenizer, device, pad_idx, max_length_generate=40)\n",
    "\n",
    "        history[\"train_loss\"].append(avg_train_loss)\n",
    "        history[\"val_loss\"].append(val_loss)\n",
    "        history[\"learning_rate\"].append(optimizer.param_groups[0]['lr'])\n",
    "        history[\"teacher_forcing_ratio\"].append(tf_ratio)\n",
    "\n",
    "        plateau_scheduler.step(val_loss)\n",
    "        print(f\"[Epoch {epoch+1}] Train Loss: {avg_train_loss:.4f}, Val Loss: {val_loss:.4f}\")\n",
    "\n",
    "    # === Final Test Evaluation ===\n",
    "    torch.cuda.empty_cache()\n",
    "    model.eval()\n",
    "    correct = total = 0\n",
    "    total_test_loss = 0\n",
    "\n",
    "    with torch.no_grad():\n",
    "        for batch in test_loader:\n",
    "            input_ids = batch[\"input_ids\"].to(device)\n",
    "            labels = batch[\"labels\"].to(device)\n",
    "            attn_mask = batch[\"attention_mask\"].to(device)\n",
    "\n",
    "            output = model(\n",
    "                src=input_ids,\n",
    "                tgt=labels,\n",
    "                src_key_padding_mask=(attn_mask == 0)\n",
    "            )\n",
    "            logits = output.view(-1, output.size(-1))\n",
    "            targets = labels[:, 1:].contiguous().view(-1)\n",
    "            loss = criterion(logits, targets)\n",
    "            total_test_loss += loss.item()\n",
    "\n",
    "            pred_ids = logits.argmax(dim=-1)\n",
    "            correct += (pred_ids == targets).sum().item()\n",
    "            total += targets.numel()\n",
    "\n",
    "    avg_test_loss = total_test_loss / len(test_loader)\n",
    "    accuracy = correct / total\n",
    "    history[\"test_loss\"] = avg_test_loss\n",
    "    history[\"test_accuracy\"] = accuracy\n",
    "\n",
    "    print(f\"\\n Test Loss: {avg_test_loss:.4f} | Test Accuracy: {accuracy:.4f}\")\n",
    "\n",
    "    # === Save history ===\n",
    "    with open(\"label_smooth_history.json\", \"w\") as f:\n",
    "        json.dump(history, f, indent=2)\n",
    "\n",
    "    # === Plotting ===\n",
    "    epochs = list(range(1, len(history[\"train_loss\"]) + 1))\n",
    "\n",
    "    plt.figure(figsize=(10, 5))\n",
    "    plt.plot(epochs, history[\"train_loss\"], label=\"Train Loss\", marker=\"o\")\n",
    "    plt.plot(epochs, history[\"val_loss\"], label=\"Validation Loss\", marker=\"s\")\n",
    "    plt.axhline(y=history[\"test_loss\"], color='r', linestyle='--', label=f\"Test Loss: {history['test_loss']:.4f}\")\n",
    "    plt.title(\"Loss Over Epochs\")\n",
    "    plt.xlabel(\"Epoch\")\n",
    "    plt.ylabel(\"Loss\")\n",
    "    plt.legend()\n",
    "    plt.grid(True)\n",
    "    plt.tight_layout()\n",
    "    plt.savefig(\"loss_plot.png\")\n",
    "    plt.show()\n",
    "\n",
    "    plt.figure(figsize=(5, 4))\n",
    "    plt.bar([\"Test Accuracy\"], [history[\"test_accuracy\"]], color='green')\n",
    "    plt.ylim(0, 1)\n",
    "    plt.title(\"Final Test Accuracy\")\n",
    "    plt.ylabel(\"Accuracy\")\n",
    "    plt.tight_layout()\n",
    "    plt.savefig(\"test_accuracy.png\")\n",
    "    plt.show()\n"
   ]
  },
  {
   "cell_type": "code",
   "execution_count": null,
   "id": "0d0807f6-ef3d-45bd-8999-1b4d72bcedf3",
   "metadata": {},
   "outputs": [],
   "source": []
  }
 ],
 "metadata": {
  "kernelspec": {
   "display_name": "Python3 (ipykernel)",
   "language": "python",
   "name": "python3"
  },
  "language_info": {
   "codemirror_mode": {
    "name": "ipython",
    "version": 3
   },
   "file_extension": ".py",
   "mimetype": "text/x-python",
   "name": "python",
   "nbconvert_exporter": "python",
   "pygments_lexer": "ipython3",
   "version": "3.10.12"
  }
 },
 "nbformat": 4,
 "nbformat_minor": 5
}
